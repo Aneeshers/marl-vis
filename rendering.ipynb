{
 "cells": [
  {
   "cell_type": "code",
   "execution_count": 1,
   "metadata": {},
   "outputs": [],
   "source": [
    "import pickle\n",
    "\n",
    "with open('/n/home04/amuppidi/marl_vis/Multi-Agent-Reinforcement-Learning/positions_log.pkl', 'rb') as f:\n",
    "    positions_log = pickle.load(f)\n"
   ]
  },
  {
   "cell_type": "code",
   "execution_count": 5,
   "metadata": {},
   "outputs": [],
   "source": [
    "def convert_pos_to_pixels(pos, image_size=700, max_pos_range=None):\n",
    "    if max_pos_range is None:\n",
    "        max_pos_range = max(abs(pos))\n",
    "    # Convert from [-max_pos_range, max_pos_range] range to [0, image_size] range\n",
    "    return int(((pos + max_pos_range) / (2 * max_pos_range)) * image_size)\n"
   ]
  },
  {
   "cell_type": "code",
   "execution_count": 4,
   "metadata": {},
   "outputs": [
    {
     "name": "stderr",
     "output_type": "stream",
     "text": [
      "/tmp/ipykernel_33252/422222707.py:12: DeprecationWarning: Starting with ImageIO v3 the behavior of this function will switch to that of iio.v3.imread. To keep the current behavior (and make this warning disappear) use `import imageio.v2 as imageio` or call `imageio.v2.imread` directly.\n",
      "  frame = imageio.imread(frame_filename)\n",
      "/tmp/ipykernel_33252/422222707.py:30: DeprecationWarning: Starting with ImageIO v3 the behavior of this function will switch to that of iio.v3.imread. To keep the current behavior (and make this warning disappear) use `import imageio.v2 as imageio` or call `imageio.v2.imread` directly.\n",
      "  frame = imageio.imread(filename)\n"
     ]
    }
   ],
   "source": [
    "import matplotlib.pyplot as plt\n",
    "import imageio\n",
    "import os\n",
    "frames_dir = '/n/home04/amuppidi/marl_vis/Multi-Agent-Reinforcement-Learning/frames'\n",
    "output_frames = []\n",
    "\n",
    "# Filter positions_log to only include timestep 0 of each epoch\n",
    "positions_log_filtered = [entry for entry in positions_log if entry['time_step'] == 0]\n",
    "max_pos_range = max(abs(pos) for epoch_positions in positions_log for agent_positions in epoch_positions['positions'].values() for pos in agent_positions)\n",
    "\n",
    "for i in range(len(positions_log_filtered) - 15):  # Subtract 15 to avoid going out of bounds\n",
    "    frame_filename = os.path.join(frames_dir, f'frame_epoch_{positions_log_filtered[i][\"epoch\"]}_step_0.png')\n",
    "    frame = imageio.imread(frame_filename)\n",
    "    plt.imshow(frame)\n",
    "\n",
    "    # Overlay positions for the next 15 time steps\n",
    "    for j in range(15):\n",
    "        for agent, pos in positions_log_filtered[i + j]['positions'].items():\n",
    "            x_pixel = convert_pos_to_pixels(pos[0], image_size=700, max_pos_range=max_pos_range)\n",
    "            y_pixel = convert_pos_to_pixels(pos[1], image_size=700, max_pos_range=max_pos_range)\n",
    "            plt.scatter(x_pixel, y_pixel, color='red' if agent == 'agent_0' else 'blue' if agent == 'agent_1' else 'green', alpha=(15 - j) / 15)\n",
    "\n",
    "    # Save the modified frame\n",
    "    plt.axis('off')\n",
    "    modified_frame_filename = os.path.join(frames_dir, f'modified_frame_epoch_{positions_log_filtered[i][\"epoch\"]}.png')\n",
    "    plt.savefig(modified_frame_filename, bbox_inches='tight', pad_inches=0)\n",
    "    output_frames.append(modified_frame_filename)\n",
    "    plt.close()\n",
    "\n",
    "# Create an animated GIF\n",
    "with imageio.get_writer('/n/home04/amuppidi/marl_vis/Multi-Agent-Reinforcement-Learning/animated_positions.gif', mode='I') as writer:\n",
    "    for filename in output_frames:\n",
    "        frame = imageio.imread(filename)\n",
    "        writer.append_data(frame)\n"
   ]
  }
 ],
 "metadata": {
  "kernelspec": {
   "display_name": "Python 3",
   "language": "python",
   "name": "python3"
  },
  "language_info": {
   "codemirror_mode": {
    "name": "ipython",
    "version": 3
   },
   "file_extension": ".py",
   "mimetype": "text/x-python",
   "name": "python",
   "nbconvert_exporter": "python",
   "pygments_lexer": "ipython3",
   "version": "3.10.13"
  }
 },
 "nbformat": 4,
 "nbformat_minor": 2
}
